{
 "cells": [
  {
   "cell_type": "code",
   "execution_count": 1,
   "id": "3084f560",
   "metadata": {},
   "outputs": [],
   "source": [
    "class PDF(object):\n",
    "  def __init__(self, pdf, size=(200,200)):\n",
    "    self.pdf = pdf\n",
    "    self.size = size\n",
    "\n",
    "  def _repr_html_(self):\n",
    "    return '<iframe src={0} width={1[0]} height={1[1]}></iframe>'.format(self.pdf, self.size)\n",
    "\n",
    "  def _repr_latex_(self):\n",
    "    return r'\\includegraphics[width=1.0\\textwidth]{{{0}}}'.format(self.pdf)"
   ]
  },
  {
   "cell_type": "code",
   "execution_count": 2,
   "id": "45b090ee",
   "metadata": {},
   "outputs": [
    {
     "data": {
      "text/html": [
       "<iframe src=lob_acc.pdf width=200 height=160></iframe>"
      ],
      "text/latex": [
       "\\includegraphics[width=1.0\\textwidth]{lob_acc.pdf}"
      ],
      "text/plain": [
       "<__main__.PDF at 0x7fb3b40080f0>"
      ]
     },
     "execution_count": 2,
     "metadata": {},
     "output_type": "execute_result"
    }
   ],
   "source": [
    "PDF('lob_acc.pdf',size=(200,160))"
   ]
  },
  {
   "cell_type": "code",
   "execution_count": 4,
   "id": "23523d5a",
   "metadata": {},
   "outputs": [
    {
     "data": {
      "text/html": [
       "<iframe src=svalue.pdf width=200 height=160></iframe>"
      ],
      "text/latex": [
       "\\includegraphics[width=1.0\\textwidth]{svalue.pdf}"
      ],
      "text/plain": [
       "<__main__.PDF at 0x7fb3b4021c50>"
      ]
     },
     "execution_count": 4,
     "metadata": {},
     "output_type": "execute_result"
    }
   ],
   "source": [
    "PDF('svalue.pdf',size=(200,160))"
   ]
  },
  {
   "cell_type": "code",
   "execution_count": 5,
   "id": "cfe35261",
   "metadata": {},
   "outputs": [
    {
     "data": {
      "text/html": [
       "<iframe src=gpu_acc.pdf width=200 height=160></iframe>"
      ],
      "text/latex": [
       "\\includegraphics[width=1.0\\textwidth]{gpu_acc.pdf}"
      ],
      "text/plain": [
       "<__main__.PDF at 0x7fb3b4021b38>"
      ]
     },
     "execution_count": 5,
     "metadata": {},
     "output_type": "execute_result"
    }
   ],
   "source": [
    "# 增加训练规->观察稳定性 (性能/稳定性)\n",
    "# 精度+收益60%(观察分类错误的类别）\n",
    "# 稳定性GPU\n",
    "PDF('gpu_acc.pdf',size=(200,160))"
   ]
  },
  {
   "cell_type": "code",
   "execution_count": 6,
   "id": "4fcf4ce6",
   "metadata": {},
   "outputs": [
    {
     "data": {
      "text/html": [
       "<iframe src=gpu_svalue.pdf width=200 height=160></iframe>"
      ],
      "text/latex": [
       "\\includegraphics[width=1.0\\textwidth]{gpu_svalue.pdf}"
      ],
      "text/plain": [
       "<__main__.PDF at 0x7fb3b4021f60>"
      ]
     },
     "execution_count": 6,
     "metadata": {},
     "output_type": "execute_result"
    }
   ],
   "source": [
    "PDF('gpu_svalue.pdf',size=(200,160))"
   ]
  },
  {
   "cell_type": "code",
   "execution_count": null,
   "id": "a977c596",
   "metadata": {},
   "outputs": [],
   "source": [
    "# 1.300/500/50 [不同Bid]模型上表现，足够长的训练样本表现\n",
    "#   1.1 [16-22年]结果\n",
    "#   1.2 稳定性分析(随机性结果) \n",
    "#   1.3 Uncertainty/Confidence Intervals\n",
    "    \n",
    "# 2.不同年份(训练集合规模的测试)多个样本\n",
    "\n",
    "# 3.额外数据集lab el标注(扩展维度) \n",
    "#   3.1 [收盘/开盘] 分开标注\n",
    "#   3.2 [收盘/开盘] 重尾概率\n",
    "#   3.3 [收盘/开盘] 添加输入变量X\n",
    "#   3.4 刚开盘反应20个小时的信息，剩下增量信息\n",
    "\n"
   ]
  },
  {
   "cell_type": "code",
   "execution_count": null,
   "id": "e00b73af",
   "metadata": {},
   "outputs": [],
   "source": [
    "1. 300/500\n",
    "  1.1 [16-22年]结果 300\n",
    "    年初趋势\n",
    "  1.2 [20年]结果 500\n",
    "    数据格式\n",
    "2. 观察模型的行为\n",
    "2. 额外数据集label标注(扩展维度)\n",
    "  "
   ]
  }
 ],
 "metadata": {
  "kernelspec": {
   "display_name": "Python 3",
   "language": "python",
   "name": "python3"
  },
  "language_info": {
   "codemirror_mode": {
    "name": "ipython",
    "version": 3
   },
   "file_extension": ".py",
   "mimetype": "text/x-python",
   "name": "python",
   "nbconvert_exporter": "python",
   "pygments_lexer": "ipython3",
   "version": "3.6.10"
  }
 },
 "nbformat": 4,
 "nbformat_minor": 5
}
