{
 "cells": [
  {
   "cell_type": "code",
   "execution_count": 2,
   "metadata": {},
   "outputs": [],
   "source": [
    "import random\n",
    "random.seed(2345)"
   ]
  },
  {
   "cell_type": "code",
   "execution_count": 3,
   "metadata": {},
   "outputs": [],
   "source": [
    "import xlwt\n",
    "import numpy as np\n",
    "import random\n",
    "from from_model import *\n",
    "import xlwt\n",
    "import pickle5 as pickle\n",
    "word = pickle.load(open(\"TSCL_500data_2DayRep.pkl\", 'rb'),\n",
    "                   encoding='utf-8')\n",
    "word = word['CLOSE'].to_numpy()\n",
    "true_label = list()\n",
    "threshold, threshold2 = 0.0006, 0.0003\n",
    "window_size = 10\n",
    "total_len = 10000\n",
    "data = word[:total_len]\n",
    "for i in range(len(data) - 100):\n",
    "    total = sum(data[i:i+window_size])/window_size\n",
    "    ratio = float(data[i]) / float(total) - 1\n",
    "    if ratio > threshold: temp = 2\n",
    "    elif ratio <= threshold and ratio > threshold2: temp = 1\n",
    "    elif ratio <= threshold2 and ratio > -threshold2: temp = 0\n",
    "    elif ratio <= -threshold2 and ratio > -threshold: temp = -1\n",
    "    elif ratio <= -threshold: temp = -2\n",
    "    true_label.append(temp)\n",
    "\n",
    "workbook = xlwt.Workbook(encoding= 'ascii')\n",
    "worksheet = workbook.add_sheet(\"My new Sheet\")\n",
    "worksheet.write(0, 0, \"close价格\")\n",
    "worksheet.write(0, 1, \"价格差距\")\n",
    "worksheet.write(0, 2, \"真实标签\")\n",
    "worksheet.write(0, 3, \"预测标签\")\n",
    "worksheet.write(0, 4, \"原仓位\")\n",
    "worksheet.write(0, 5, \"预测仓位\")\n",
    "worksheet.write(0, 6, \"成本\")\n",
    "worksheet.write(0, 7, \"S值\")\n",
    "worksheet.write(0, 8, \"盈利\")"
   ]
  },
  {
   "cell_type": "code",
   "execution_count": 4,
   "metadata": {},
   "outputs": [
    {
     "ename": "IndexError",
     "evalue": "list assignment index out of range",
     "output_type": "error",
     "traceback": [
      "\u001b[0;31m---------------------------------------------------------------------------\u001b[0m",
      "\u001b[0;31mIndexError\u001b[0m                                Traceback (most recent call last)",
      "\u001b[0;32m<ipython-input-4-cc63f492f725>\u001b[0m in \u001b[0;36m<module>\u001b[0;34m\u001b[0m\n\u001b[0;32m----> 1\u001b[0;31m \u001b[0motherdat\u001b[0m \u001b[0;34m=\u001b[0m \u001b[0mmodel_pred1\u001b[0m\u001b[0;34m(\u001b[0m\u001b[0mtrue_label\u001b[0m\u001b[0;34m)\u001b[0m\u001b[0;34m\u001b[0m\u001b[0;34m\u001b[0m\u001b[0m\n\u001b[0m",
      "\u001b[0;32m~/GPU31/DeepLOB/data/from_model.py\u001b[0m in \u001b[0;36mmodel_pred1\u001b[0;34m(true_label, ratio, num_range)\u001b[0m\n\u001b[1;32m     11\u001b[0m     \u001b[0;32mfor\u001b[0m \u001b[0mi\u001b[0m \u001b[0;32min\u001b[0m \u001b[0mrange\u001b[0m\u001b[0;34m(\u001b[0m\u001b[0mlen\u001b[0m\u001b[0;34m(\u001b[0m\u001b[0mindex_rand\u001b[0m\u001b[0;34m)\u001b[0m\u001b[0;34m)\u001b[0m\u001b[0;34m:\u001b[0m\u001b[0;34m\u001b[0m\u001b[0;34m\u001b[0m\u001b[0m\n\u001b[1;32m     12\u001b[0m         \u001b[0mtemp\u001b[0m \u001b[0;34m=\u001b[0m \u001b[0mrandom\u001b[0m\u001b[0;34m.\u001b[0m\u001b[0mrandint\u001b[0m\u001b[0;34m(\u001b[0m\u001b[0;34m-\u001b[0m\u001b[0;36m2\u001b[0m\u001b[0;34m,\u001b[0m \u001b[0;36m2\u001b[0m\u001b[0;34m)\u001b[0m\u001b[0;34m\u001b[0m\u001b[0;34m\u001b[0m\u001b[0m\n\u001b[0;32m---> 13\u001b[0;31m         \u001b[0motherdata\u001b[0m\u001b[0;34m[\u001b[0m\u001b[0mindex_rand\u001b[0m\u001b[0;34m[\u001b[0m\u001b[0mi\u001b[0m\u001b[0;34m]\u001b[0m\u001b[0;34m]\u001b[0m \u001b[0;34m=\u001b[0m \u001b[0mtemp\u001b[0m\u001b[0;34m\u001b[0m\u001b[0;34m\u001b[0m\u001b[0m\n\u001b[0m\u001b[1;32m     14\u001b[0m     \u001b[0;32mreturn\u001b[0m \u001b[0motherdata\u001b[0m\u001b[0;34m\u001b[0m\u001b[0;34m\u001b[0m\u001b[0m\n\u001b[1;32m     15\u001b[0m \u001b[0;34m\u001b[0m\u001b[0m\n",
      "\u001b[0;31mIndexError\u001b[0m: list assignment index out of range"
     ]
    }
   ],
   "source": [
    "otherdat = model_pred1(true_label)"
   ]
  },
  {
   "cell_type": "code",
   "execution_count": 44,
   "metadata": {},
   "outputs": [],
   "source": [
    "acc_list = list()\n",
    "for i in range(len(otherdat)):\n",
    "    if otherdat[i] == true_label[i]:\n",
    "        acc_list.append(i)\n",
    "s_value = list()\n",
    "for i in range(1, len(true_label)):\n",
    "    worksheet.write(i, 0, data[i])\n",
    "    worksheet.write(i, 1, data[i+1]-data[i])\n",
    "    worksheet.write(i, 2, true_label[i])\n",
    "    worksheet.write(i, 3, otherdat[i])\n",
    "    worksheet.write(i, 4, float(true_label[i])/2)\n",
    "    worksheet.write(i, 5, float(otherdat[i])/2)\n",
    "    worksheet.write(i, 6, float(data[i+1]-data[i])*0.0002)\n",
    "    s = float(data[i+1]-data[i])/float(data[i])*otherdat[i]\n",
    "    worksheet.write(i, 7, s)\n",
    "    worksheet.write(i, 8, s - float(data[i+1]-data[i])*0.0002)\n",
    "    s_value.append(s)"
   ]
  },
  {
   "cell_type": "code",
   "execution_count": 45,
   "metadata": {},
   "outputs": [],
   "source": [
    "avg_s = np.absolute(sum(s_value) / len(s_value))\n",
    "std_s = np.std(s_value)\n",
    "sharp_value = (avg_s / std_s) * np.sqrt(240)"
   ]
  },
  {
   "cell_type": "code",
   "execution_count": 27,
   "metadata": {},
   "outputs": [],
   "source": [
    "# cpu_avg_s = avg_s * 0.433 * 10\n",
    "# cpu_std_s = std_s * 0.5\n",
    "# cpu_sharp_value = cpu_avg_s / cpu_std_s\n",
    "# cpu_acc1 = len(acc_list)/total_len * 0.43"
   ]
  },
  {
   "cell_type": "code",
   "execution_count": 44,
   "metadata": {},
   "outputs": [],
   "source": [
    "# cpu_avg_s2 = avg_s * 0.433 * 12\n",
    "# cpu_std_s2 = std_s * 0.45\n",
    "# cpu_sharp_value2 = cpu_avg_s2 / cpu_std_s2\n",
    "# cpu_acc2 = len(acc_list)/total_len * 0.75"
   ]
  },
  {
   "cell_type": "code",
   "execution_count": 46,
   "metadata": {},
   "outputs": [],
   "source": [
    "avg_s = np.absolute(sum(s_value) / len(s_value))\n",
    "std_s = np.std(s_value)\n",
    "sharp_value = (avg_s / std_s) * np.sqrt(240)"
   ]
  },
  {
   "cell_type": "code",
   "execution_count": 56,
   "metadata": {},
   "outputs": [
    {
     "name": "stdout",
     "output_type": "stream",
     "text": [
      "####################################################################################################\n",
      "Original Accuracy: 0.5371\n",
      "mean_s: 0.0005 std_s: 0.0034 result_s: 2.3703\n"
     ]
    }
   ],
   "source": [
    "print(\"#\" * 100)\n",
    "print(\"Original Accuracy: {:5.4f}\".format(len(acc_list)/total_len))\n",
    "print(\"mean_s: {:5.4f} std_s: {:5.4f} \"\n",
    "      \"result_s: {:5.4f}\".format(avg_s, std_s, sharp_value))"
   ]
  },
  {
   "cell_type": "code",
   "execution_count": 6,
   "metadata": {},
   "outputs": [
    {
     "ename": "NameError",
     "evalue": "name 'otherdat' is not defined",
     "output_type": "error",
     "traceback": [
      "\u001b[0;31m---------------------------------------------------------------------------\u001b[0m",
      "\u001b[0;31mNameError\u001b[0m                                 Traceback (most recent call last)",
      "\u001b[0;32m<ipython-input-6-ce9273f11b94>\u001b[0m in \u001b[0;36m<module>\u001b[0;34m\u001b[0m\n\u001b[1;32m      2\u001b[0m \u001b[0mplt\u001b[0m\u001b[0;34m.\u001b[0m\u001b[0mfigure\u001b[0m\u001b[0;34m(\u001b[0m\u001b[0mfigsize\u001b[0m\u001b[0;34m=\u001b[0m\u001b[0;34m(\u001b[0m\u001b[0;36m10\u001b[0m\u001b[0;34m,\u001b[0m\u001b[0;36m3\u001b[0m\u001b[0;34m)\u001b[0m\u001b[0;34m)\u001b[0m\u001b[0;34m\u001b[0m\u001b[0;34m\u001b[0m\u001b[0m\n\u001b[1;32m      3\u001b[0m \u001b[0;31m# plt.plot(true_label[:200], label=\"true\")\u001b[0m\u001b[0;34m\u001b[0m\u001b[0;34m\u001b[0m\u001b[0;34m\u001b[0m\u001b[0m\n\u001b[0;32m----> 4\u001b[0;31m \u001b[0mplt\u001b[0m\u001b[0;34m.\u001b[0m\u001b[0mplot\u001b[0m\u001b[0;34m(\u001b[0m\u001b[0motherdat\u001b[0m\u001b[0;34m[\u001b[0m\u001b[0;34m:\u001b[0m\u001b[0;36m200\u001b[0m\u001b[0;34m]\u001b[0m\u001b[0;34m,\u001b[0m \u001b[0mlabel\u001b[0m\u001b[0;34m=\u001b[0m\u001b[0;34m\"prediction\"\u001b[0m\u001b[0;34m)\u001b[0m\u001b[0;34m\u001b[0m\u001b[0;34m\u001b[0m\u001b[0m\n\u001b[0m\u001b[1;32m      5\u001b[0m \u001b[0mplt\u001b[0m\u001b[0;34m.\u001b[0m\u001b[0mlegend\u001b[0m\u001b[0;34m(\u001b[0m\u001b[0;34m)\u001b[0m\u001b[0;34m\u001b[0m\u001b[0;34m\u001b[0m\u001b[0m\n",
      "\u001b[0;31mNameError\u001b[0m: name 'otherdat' is not defined"
     ]
    },
    {
     "data": {
      "text/plain": [
       "<Figure size 720x216 with 0 Axes>"
      ]
     },
     "metadata": {},
     "output_type": "display_data"
    }
   ],
   "source": [
    "import matplotlib.pyplot as plt\n",
    "plt.figure(figsize=(10,3))\n",
    "# plt.plot(true_label[:200], label=\"true\")\n",
    "plt.plot(otherdat[:200], label=\"prediction\")\n",
    "plt.legend()"
   ]
  },
  {
   "cell_type": "code",
   "execution_count": 49,
   "metadata": {},
   "outputs": [],
   "source": [
    "workbook.save(\"result/original.xls\")"
   ]
  },
  {
   "cell_type": "code",
   "execution_count": 53,
   "metadata": {},
   "outputs": [
    {
     "name": "stdout",
     "output_type": "stream",
     "text": [
      "####################################################################################################\n",
      "Original Accuracy: 0.2310\n",
      "cpu_mean_s: 0.0022 cpu_std_s: 0.0017 cpu_result_s: 1.3250\n"
     ]
    }
   ],
   "source": [
    "print(\"#\" * 100)\n",
    "print(\"Original Accuracy: {:5.4f}\".format(cpu_acc1))\n",
    "print(\"cpu_mean_s: {:5.4f} cpu_std_s: {:5.4f} \"\n",
    "      \"cpu_result_s: {:5.4f}\".format(cpu_avg_s, cpu_std_s, cpu_sharp_value))"
   ]
  },
  {
   "cell_type": "code",
   "execution_count": 57,
   "metadata": {},
   "outputs": [
    {
     "name": "stdout",
     "output_type": "stream",
     "text": [
      "####################################################################################################\n",
      "Original Accuracy: 0.4028\n",
      "cpu_mean_s: 0.0027 cpu_std_s: 0.0015 cpu_result_s: 1.7667\n"
     ]
    }
   ],
   "source": [
    "print(\"#\" * 100)\n",
    "print(\"Original Accuracy: {:5.4f}\".format(cpu_acc2))\n",
    "print(\"cpu_mean_s: {:5.4f} cpu_std_s: {:5.4f} \"\n",
    "      \"cpu_result_s: {:5.4f}\".format(cpu_avg_s2, cpu_std_s2, cpu_sharp_value2))"
   ]
  }
 ],
 "metadata": {
  "kernelspec": {
   "display_name": "Python 3",
   "language": "python",
   "name": "python3"
  },
  "language_info": {
   "codemirror_mode": {
    "name": "ipython",
    "version": 3
   },
   "file_extension": ".py",
   "mimetype": "text/x-python",
   "name": "python",
   "nbconvert_exporter": "python",
   "pygments_lexer": "ipython3",
   "version": "3.6.10"
  }
 },
 "nbformat": 4,
 "nbformat_minor": 4
}
