{
 "cells": [
  {
   "cell_type": "code",
   "execution_count": 20,
   "metadata": {},
   "outputs": [],
   "source": [
    "import random\n",
    "random.seed(2345)"
   ]
  },
  {
   "cell_type": "code",
   "execution_count": 21,
   "metadata": {},
   "outputs": [],
   "source": [
    "import xlwt\n",
    "import numpy as np\n",
    "import random\n",
    "from from_model import *\n",
    "import xlwt\n",
    "import pickle5 as pickle\n",
    "word = pickle.load(open(\"TSCL_500data_2DayRep.pkl\", 'rb'),\n",
    "                   encoding='utf-8')\n",
    "word = word['CLOSE'].to_numpy()\n",
    "true_label = list()\n",
    "threshold, threshold2 = 0.0006, 0.0003\n",
    "window_size = 10\n",
    "total_len = 10000\n",
    "data = word[:total_len]\n",
    "for i in range(len(data) - 100):\n",
    "    total = sum(data[i:i+window_size])/window_size\n",
    "    ratio = float(data[i]) / float(total) - 1\n",
    "    if ratio > threshold: temp = 2\n",
    "    elif ratio <= threshold and ratio > threshold2: temp = 1\n",
    "    elif ratio <= threshold2 and ratio > -threshold2: temp = 0\n",
    "    elif ratio <= -threshold2 and ratio > -threshold: temp = -1\n",
    "    elif ratio <= -threshold: temp = -2\n",
    "    true_label.append(temp)\n",
    "\n",
    "workbook = xlwt.Workbook(encoding= 'ascii')\n",
    "worksheet = workbook.add_sheet(\"My new Sheet\")\n",
    "worksheet.write(0, 0, \"close价格\")\n",
    "worksheet.write(0, 1, \"价格差距\")\n",
    "worksheet.write(0, 2, \"真实标签\")\n",
    "worksheet.write(0, 3, \"预测标签\")\n",
    "worksheet.write(0, 4, \"原仓位\")\n",
    "worksheet.write(0, 5, \"预测仓位\")\n",
    "worksheet.write(0, 6, \"成本\")\n",
    "worksheet.write(0, 7, \"S值\")\n",
    "worksheet.write(0, 8, \"盈利\")"
   ]
  },
  {
   "cell_type": "code",
   "execution_count": 22,
   "metadata": {},
   "outputs": [],
   "source": [
    "otherdat = model_pred1(true_label)"
   ]
  },
  {
   "cell_type": "code",
   "execution_count": 23,
   "metadata": {},
   "outputs": [],
   "source": [
    "acc_list = list()\n",
    "for i in range(len(otherdat)):\n",
    "    if otherdat[i] == true_label[i]:\n",
    "        acc_list.append(i)\n",
    "s_value = list()\n",
    "for i in range(1, len(true_label)):\n",
    "    worksheet.write(i, 0, data[i])\n",
    "    worksheet.write(i, 1, data[i+1]-data[i])\n",
    "    worksheet.write(i, 2, true_label[i])\n",
    "    worksheet.write(i, 3, otherdat[i])\n",
    "    worksheet.write(i, 4, float(true_label[i])/2)\n",
    "    worksheet.write(i, 5, float(otherdat[i])/2)\n",
    "    worksheet.write(i, 6, float(data[i+1]-data[i])*0.0002)\n",
    "    s = float(data[i+1]-data[i])/float(data[i])*otherdat[i]\n",
    "    worksheet.write(i, 7, s)\n",
    "    worksheet.write(i, 8, s - float(data[i+1]-data[i])*0.0002)\n",
    "    s_value.append(s)"
   ]
  },
  {
   "cell_type": "code",
   "execution_count": 24,
   "metadata": {},
   "outputs": [],
   "source": [
    "avg_s = np.absolute(sum(s_value) / len(s_value))\n",
    "std_s = np.std(s_value)\n",
    "sharp_value = (avg_s / std_s) * np.sqrt(240)"
   ]
  },
  {
   "cell_type": "code",
   "execution_count": 25,
   "metadata": {},
   "outputs": [
    {
     "name": "stdout",
     "output_type": "stream",
     "text": [
      "####################################################################################################\n",
      "Original Accuracy: 0.5363\n",
      "mean_s: 0.0005 std_s: 0.0034 result_s: 2.4741\n"
     ]
    }
   ],
   "source": [
    "print(\"#\" * 100)\n",
    "print(\"Original Accuracy: {:5.4f}\".format(len(acc_list)/total_len))\n",
    "print(\"mean_s: {:5.4f} std_s: {:5.4f} \"\n",
    "      \"result_s: {:5.4f}\".format(avg_s, std_s, sharp_value))"
   ]
  },
  {
   "cell_type": "code",
   "execution_count": 26,
   "metadata": {},
   "outputs": [],
   "source": [
    "workbook.save(\"result/original.xls\")"
   ]
  }
 ],
 "metadata": {
  "kernelspec": {
   "display_name": "Python 3",
   "language": "python",
   "name": "python3"
  },
  "language_info": {
   "codemirror_mode": {
    "name": "ipython",
    "version": 3
   },
   "file_extension": ".py",
   "mimetype": "text/x-python",
   "name": "python",
   "nbconvert_exporter": "python",
   "pygments_lexer": "ipython3",
   "version": "3.6.10"
  }
 },
 "nbformat": 4,
 "nbformat_minor": 4
}
